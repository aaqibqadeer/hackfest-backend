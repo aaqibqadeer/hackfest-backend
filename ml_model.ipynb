{
  "nbformat": 4,
  "nbformat_minor": 0,
  "metadata": {
    "colab": {
      "name": "CV parser.ipynb",
      "provenance": []
    },
    "kernelspec": {
      "name": "python3",
      "display_name": "Python 3"
    },
    "language_info": {
      "name": "python"
    }
  },
  "cells": [
    {
      "cell_type": "code",
      "metadata": {
        "id": "tGx-2rEAvofh"
      },
      "source": [
        "!pip install textract\n",
        "!pip install resume-parser\n",
        "!pip install pyresparser"
      ],
      "execution_count": null,
      "outputs": []
    },
    {
      "cell_type": "code",
      "metadata": {
        "id": "n6xk9IdoAEsw"
      },
      "source": [
        "data2 = resumeparse.read_file('/content/Aaqib Qadeer Soomro CV.pdf')\n",
        "data2"
      ],
      "execution_count": null,
      "outputs": []
    },
    {
      "cell_type": "code",
      "metadata": {
        "colab": {
          "base_uri": "https://localhost:8080/"
        },
        "id": "ZVeGYcE96tsv",
        "outputId": "d10acc19-4332-4da7-e060-8ec76e2e0eea"
      },
      "source": [
        "#!pip install -U spacy==2.3.1\n",
        "!python -m spacy validate\n",
        "!python -m spacy download en"
      ],
      "execution_count": 46,
      "outputs": [
        {
          "output_type": "stream",
          "name": "stdout",
          "text": [
            "\r⠙ Loading compatibility table...\r\u001b[2K\u001b[38;5;2m✔ Loaded compatibility table\u001b[0m\n",
            "\u001b[1m\n",
            "====================== Installed models (spaCy v2.3.1) ======================\u001b[0m\n",
            "\u001b[38;5;4mℹ spaCy installation: /usr/local/lib/python3.7/dist-packages/spacy\u001b[0m\n",
            "\n",
            "TYPE      NAME             MODEL            VERSION                            \n",
            "package   en-core-web-sm   en_core_web_sm   \u001b[38;5;2m2.3.1\u001b[0m   \u001b[38;5;2m✔\u001b[0m\n",
            "\n"
          ]
        }
      ]
    },
    {
      "cell_type": "code",
      "metadata": {
        "id": "H08KIFY6_4LF"
      },
      "source": [
        "from google.colab import files\n",
        "files.upload()"
      ],
      "execution_count": null,
      "outputs": []
    },
    {
      "cell_type": "code",
      "metadata": {
        "id": "IXRt6t8y0oeS"
      },
      "source": [
        "!pip install resume-parser"
      ],
      "execution_count": null,
      "outputs": []
    },
    {
      "cell_type": "code",
      "metadata": {
        "id": "gOz2LGxA1bMg"
      },
      "source": [
        "import nltk\n",
        "!python -m nltk.downloader stopwords\n",
        "!python -m nltk.downloader punkt\n",
        "!python -m nltk.downloader averaged_perceptron_tagger\n",
        "!python -m nltk.downloader universal_tagset\n",
        "!python -m nltk.downloader wordnet\n",
        "!python -m nltk.downloader brown\n",
        "!python -m nltk.downloader maxent_ne_chunker\n",
        "!python -m spacy download en_core_web_sm\n"
      ],
      "execution_count": null,
      "outputs": []
    },
    {
      "cell_type": "code",
      "metadata": {
        "id": "zTzyvvrEq3Uy"
      },
      "source": [
        "import pandas as pd\n",
        "import re\n",
        "import textract\n",
        "import string\n",
        "from resume_parser import resumeparse\n",
        "from pyresparser import ResumeParser\n",
        "import numpy as np"
      ],
      "execution_count": 92,
      "outputs": []
    },
    {
      "cell_type": "code",
      "metadata": {
        "id": "Y4_xcWptsXTT"
      },
      "source": [
        "df = pd.read_csv('https://raw.githubusercontent.com/Somesh-Pillai/NLP-Projects/main/UpdatedResumeDataSet.csv')"
      ],
      "execution_count": 28,
      "outputs": []
    },
    {
      "cell_type": "code",
      "metadata": {
        "colab": {
          "base_uri": "https://localhost:8080/",
          "height": 203
        },
        "id": "jh2AqDKHs_Ik",
        "outputId": "2a4dc1e9-76cd-42e3-c8da-5f44d76e0e0f"
      },
      "source": [
        "df.head()"
      ],
      "execution_count": 29,
      "outputs": [
        {
          "output_type": "execute_result",
          "data": {
            "text/html": [
              "<div>\n",
              "<style scoped>\n",
              "    .dataframe tbody tr th:only-of-type {\n",
              "        vertical-align: middle;\n",
              "    }\n",
              "\n",
              "    .dataframe tbody tr th {\n",
              "        vertical-align: top;\n",
              "    }\n",
              "\n",
              "    .dataframe thead th {\n",
              "        text-align: right;\n",
              "    }\n",
              "</style>\n",
              "<table border=\"1\" class=\"dataframe\">\n",
              "  <thead>\n",
              "    <tr style=\"text-align: right;\">\n",
              "      <th></th>\n",
              "      <th>Category</th>\n",
              "      <th>Resume</th>\n",
              "    </tr>\n",
              "  </thead>\n",
              "  <tbody>\n",
              "    <tr>\n",
              "      <th>0</th>\n",
              "      <td>Data Science</td>\n",
              "      <td>Skills * Programming Languages: Python (pandas...</td>\n",
              "    </tr>\n",
              "    <tr>\n",
              "      <th>1</th>\n",
              "      <td>Data Science</td>\n",
              "      <td>Education Details \\r\\nMay 2013 to May 2017 B.E...</td>\n",
              "    </tr>\n",
              "    <tr>\n",
              "      <th>2</th>\n",
              "      <td>Data Science</td>\n",
              "      <td>Areas of Interest Deep Learning, Control Syste...</td>\n",
              "    </tr>\n",
              "    <tr>\n",
              "      <th>3</th>\n",
              "      <td>Data Science</td>\n",
              "      <td>Skills â¢ R â¢ Python â¢ SAP HANA â¢ Table...</td>\n",
              "    </tr>\n",
              "    <tr>\n",
              "      <th>4</th>\n",
              "      <td>Data Science</td>\n",
              "      <td>Education Details \\r\\n MCA   YMCAUST,  Faridab...</td>\n",
              "    </tr>\n",
              "  </tbody>\n",
              "</table>\n",
              "</div>"
            ],
            "text/plain": [
              "       Category                                             Resume\n",
              "0  Data Science  Skills * Programming Languages: Python (pandas...\n",
              "1  Data Science  Education Details \\r\\nMay 2013 to May 2017 B.E...\n",
              "2  Data Science  Areas of Interest Deep Learning, Control Syste...\n",
              "3  Data Science  Skills â¢ R â¢ Python â¢ SAP HANA â¢ Table...\n",
              "4  Data Science  Education Details \\r\\n MCA   YMCAUST,  Faridab..."
            ]
          },
          "metadata": {},
          "execution_count": 29
        }
      ]
    },
    {
      "cell_type": "code",
      "metadata": {
        "colab": {
          "base_uri": "https://localhost:8080/"
        },
        "id": "w4EtSdb4tAbh",
        "outputId": "c0b4f07a-730a-495e-c839-e9a81bf84dc8"
      },
      "source": [
        "df.shape"
      ],
      "execution_count": 12,
      "outputs": [
        {
          "output_type": "execute_result",
          "data": {
            "text/plain": [
              "(962, 2)"
            ]
          },
          "metadata": {},
          "execution_count": 12
        }
      ]
    },
    {
      "cell_type": "code",
      "metadata": {
        "id": "hHFW0_cnt35C"
      },
      "source": [
        "web_designing_cvs = df[df['Category'] == 'Web Designing']"
      ],
      "execution_count": 42,
      "outputs": []
    },
    {
      "cell_type": "code",
      "metadata": {
        "colab": {
          "base_uri": "https://localhost:8080/"
        },
        "id": "aEqfYTN2uIdX",
        "outputId": "0dc00b87-013d-4564-dcea-8901398b69f3"
      },
      "source": [
        "web_designing_cvs.shape"
      ],
      "execution_count": 43,
      "outputs": [
        {
          "output_type": "execute_result",
          "data": {
            "text/plain": [
              "(45, 2)"
            ]
          },
          "metadata": {},
          "execution_count": 43
        }
      ]
    },
    {
      "cell_type": "code",
      "metadata": {
        "colab": {
          "base_uri": "https://localhost:8080/"
        },
        "id": "o20py27aQW70",
        "outputId": "32f3d840-6102-423c-c953-0dfedf1059f0"
      },
      "source": [
        "web_designing_cvs['label'] = [x[0]>5 for x in web_designing_cvs['label']]"
      ],
      "execution_count": 74,
      "outputs": [
        {
          "output_type": "stream",
          "name": "stderr",
          "text": [
            "/usr/local/lib/python3.7/dist-packages/ipykernel_launcher.py:1: SettingWithCopyWarning: \n",
            "A value is trying to be set on a copy of a slice from a DataFrame.\n",
            "Try using .loc[row_indexer,col_indexer] = value instead\n",
            "\n",
            "See the caveats in the documentation: https://pandas.pydata.org/pandas-docs/stable/user_guide/indexing.html#returning-a-view-versus-a-copy\n",
            "  \"\"\"Entry point for launching an IPython kernel.\n"
          ]
        }
      ]
    },
    {
      "cell_type": "code",
      "metadata": {
        "id": "tQ-WisrBSGgc"
      },
      "source": [
        "web_designing_cvs.to_csv('/content/web_resumes')"
      ],
      "execution_count": 79,
      "outputs": []
    },
    {
      "cell_type": "code",
      "metadata": {
        "colab": {
          "base_uri": "https://localhost:8080/"
        },
        "id": "tTSMpVwWQhSi",
        "outputId": "db8fc087-8a70-42fd-ac41-73975c00005f"
      },
      "source": [
        "[x[0]>5 for x in web_designing_cvs['label']]"
      ],
      "execution_count": 73,
      "outputs": [
        {
          "output_type": "execute_result",
          "data": {
            "text/plain": [
              "45"
            ]
          },
          "metadata": {},
          "execution_count": 73
        }
      ]
    },
    {
      "cell_type": "code",
      "metadata": {
        "id": "nemBh-CtOMxI"
      },
      "source": [
        "a = [getScore(x) for x in web_designing_cvs['Resume']]\n",
        "a"
      ],
      "execution_count": null,
      "outputs": []
    },
    {
      "cell_type": "code",
      "metadata": {
        "id": "N0yU4klzvHPE"
      },
      "source": [
        "def formatText(text):\n",
        "  # Convert all strings to lowercase\n",
        "  formattedText = text.lower()\n",
        "\n",
        "  # Remove numbers\n",
        "  formattedText = re.sub(r'\\d+','',formattedText)\n",
        "\n",
        "  # Remove punctuation\n",
        "  formattedText = formattedText.translate(str.maketrans('','',string.punctuation))\n",
        "\n",
        "  return formattedText"
      ],
      "execution_count": 55,
      "outputs": []
    },
    {
      "cell_type": "code",
      "metadata": {
        "id": "0kNgWf2GPkmU"
      },
      "source": [
        "def getScore(text):\n",
        "\n",
        "  education = 0\n",
        "  skills = 0\n",
        "  project = 0\n",
        "  exp = 0\n",
        "  #TODO:\n",
        "  # awards & achievements\n",
        "  # certification\n",
        "\n",
        "  scores = []\n",
        "\n",
        "  keywords = {\n",
        "      'skills': ['react', 'angular', 'vue', 'node,', 'nodejs', 'javascript',\n",
        "                'typescript', 'data structures', 'oop', 'problem solving', 'design patterns', 'html',\n",
        "                 'css', 'css3', 'php', 'photoshop', 'git', 'bootstrap', 'jquery', 'adobe'],\n",
        "      'education': ['bachelor', 'master', 'phd'],\n",
        "  }\n",
        "\n",
        "  #TODO:\n",
        "  #keywords = {\n",
        "    #skills: {\n",
        "        #engineer: {\n",
        "            #frontend: [],\n",
        "            #backend: [],\n",
        "            #other: [],\n",
        "        #},\n",
        "        #hr: {}\n",
        "    #}\n",
        "  #    education: ['bachelor', 'master', 'phd'],\n",
        "  #    positions = ['associate', 'mid-level', 'senior', 'principal']\n",
        "  #}\n",
        "\n",
        "  ## assumption \n",
        "  # - all skills are equal weight\n",
        "  # - if someone has entered the phd, he has also entered the bachelors and masters\n",
        "\n",
        "  text = formatText(text)\n",
        "  for area in keywords.keys():\n",
        "      if area == 'skills':\n",
        "          for word in keywords[area]:\n",
        "              if word in text:\n",
        "                  skills +=1\n",
        "          scores.append(skills)\n",
        "          \n",
        "      elif area == 'education':\n",
        "          for word in keywords[area]:\n",
        "              if word in text:\n",
        "                  education +=1\n",
        "          scores.append(education)\n",
        "  return scores"
      ],
      "execution_count": 59,
      "outputs": []
    },
    {
      "cell_type": "code",
      "metadata": {
        "colab": {
          "base_uri": "https://localhost:8080/"
        },
        "id": "6Mtce70p1gnR",
        "outputId": "ebd0ba9d-f028-4f38-bc27-49609c7e7c8f"
      },
      "source": [
        "data = ResumeParser('/content/Aaqib Qadeer Soomro CV.pdf').get_extracted_data()"
      ],
      "execution_count": 3,
      "outputs": [
        {
          "output_type": "stream",
          "name": "stderr",
          "text": [
            "/usr/local/lib/python3.7/dist-packages/spacy/util.py:275: UserWarning: [W031] Model 'en_training' (0.0.0) requires spaCy v2.1 and is incompatible with the current spaCy version (2.3.1). This may lead to unexpected results or runtime errors. To resolve this, download a newer compatible model or retrain your custom model with the current spaCy version. For more details and available updates, run: python -m spacy validate\n",
            "  warnings.warn(warn_msg)\n"
          ]
        }
      ]
    },
    {
      "cell_type": "code",
      "metadata": {
        "colab": {
          "base_uri": "https://localhost:8080/"
        },
        "id": "3_lSWQ6B7Wqv",
        "outputId": "4e7ba222-8956-4f9d-989d-7d1a4c3605c7"
      },
      "source": [
        "data"
      ],
      "execution_count": 4,
      "outputs": [
        {
          "output_type": "execute_result",
          "data": {
            "text/plain": [
              "{'college_name': None,\n",
              " 'company_names': ['Standford University'],\n",
              " 'degree': ['Bachelor of Computer Science'],\n",
              " 'designation': ['Software Engineer'],\n",
              " 'email': 'aaqibqs@gmail.com',\n",
              " 'experience': ['\\uf0b7  Working on the portal application which connects the product, with different organizations, & users.',\n",
              "  '\\uf0b7  Developing frontend functionalities using Vue.js.',\n",
              "  '\\uf0b7  Day to day work involves adding new features, removing bugs, integrating with backend and',\n",
              "  'enhancing the functionality as required.',\n",
              "  '\\uf0b7  Give daily report to management regarding current developments in software',\n",
              "  '\\uf0b7  Key achievement: Created a portal app using Vue. Designed database schemas, defined the structure',\n",
              "  'for the API’s.',\n",
              "  'Plero.co - Lahore, Pakistan',\n",
              "  'Software Engineer',\n",
              "  'MAY 2020 – DEC 2020',\n",
              "  '\\uf0b7  Working on the multiple variations of large scale e-commerce project',\n",
              "  '\\uf0b7  Developing frontend functionalities using Angular and API’s using Ruby on Rails',\n",
              "  '\\uf0b7  Day to day work involves adding new features, removing bugs and enhancing the functionality as',\n",
              "  'required',\n",
              "  '\\uf0b7  Give weekly report to management regarding current developments in software',\n",
              "  '\\uf0b7  Key achievement: Helped the company to maintain multiple variations of large scale project and',\n",
              "  'completed every request for the new feature within deadline.',\n",
              "  '\\uf0b7  Technologies: HTML, CSS, Javascript, Typescript, Angular, Bootstrap, Ruby on Rails',\n",
              "  '\\uf0b7  Collaboration Tools: Git & bitbucket, Pivotal tracker, Asana, Slack',\n",
              "  'Programming:  OOP, Data Structure, Algorithm, Design Pattern & Database',\n",
              "  'TECHNICAL PROFICIENCIES',\n",
              "  'Languages:  C++, Javascript, Python',\n",
              "  'Web:  HTML, CSS, Boostrap, React.js, Angular, Vue.js',\n",
              "  'Data Analytics:  Scikit-Learn, NumPy, Pandas, Machine Learning',\n",
              "  'Database:  SQL, MySQL, SQL Server, MongoDB',\n",
              "  'Other:  Git',\n",
              "  '…continued…',\n",
              "  'Aaqib Qadeer Soomro \\uf0b7 Page 2'],\n",
              " 'mobile_number': '332-3941014',\n",
              " 'name': 'Aaqib Qadeer',\n",
              " 'no_of_pages': 2,\n",
              " 'skills': ['Pandas',\n",
              "  'Database',\n",
              "  'Vue.js',\n",
              "  'Ui',\n",
              "  'Ruby',\n",
              "  'Analytics',\n",
              "  'Api',\n",
              "  'Pattern',\n",
              "  'Design',\n",
              "  'Programming',\n",
              "  'Html',\n",
              "  'Technical',\n",
              "  'Sql server',\n",
              "  'Machine learning',\n",
              "  'Css',\n",
              "  'Javascript',\n",
              "  'Certification',\n",
              "  'Sql',\n",
              "  'Computer science',\n",
              "  'Numpy',\n",
              "  'Website',\n",
              "  'Mysql',\n",
              "  'C++',\n",
              "  'Python'],\n",
              " 'total_experience': 0.58}"
            ]
          },
          "metadata": {},
          "execution_count": 4
        }
      ]
    },
    {
      "cell_type": "code",
      "metadata": {
        "colab": {
          "base_uri": "https://localhost:8080/",
          "height": 110
        },
        "id": "CsI1mE8SF-_J",
        "outputId": "636a3f79-e40b-44d2-eacd-054896ac12fc"
      },
      "source": [
        "data = pd.DataFrame(scores,index=keywords.keys(),columns=['score']).sort_values(by='score',ascending=False)\n",
        "data"
      ],
      "execution_count": 39,
      "outputs": [
        {
          "output_type": "execute_result",
          "data": {
            "text/html": [
              "<div>\n",
              "<style scoped>\n",
              "    .dataframe tbody tr th:only-of-type {\n",
              "        vertical-align: middle;\n",
              "    }\n",
              "\n",
              "    .dataframe tbody tr th {\n",
              "        vertical-align: top;\n",
              "    }\n",
              "\n",
              "    .dataframe thead th {\n",
              "        text-align: right;\n",
              "    }\n",
              "</style>\n",
              "<table border=\"1\" class=\"dataframe\">\n",
              "  <thead>\n",
              "    <tr style=\"text-align: right;\">\n",
              "      <th></th>\n",
              "      <th>score</th>\n",
              "    </tr>\n",
              "  </thead>\n",
              "  <tbody>\n",
              "    <tr>\n",
              "      <th>skills</th>\n",
              "      <td>3</td>\n",
              "    </tr>\n",
              "    <tr>\n",
              "      <th>education</th>\n",
              "      <td>0</td>\n",
              "    </tr>\n",
              "  </tbody>\n",
              "</table>\n",
              "</div>"
            ],
            "text/plain": [
              "           score\n",
              "skills         3\n",
              "education      0"
            ]
          },
          "metadata": {},
          "execution_count": 39
        }
      ]
    },
    {
      "cell_type": "code",
      "metadata": {
        "id": "Lfuc3xRPStLd"
      },
      "source": [
        "data = pd.read_csv('./web_resumes')"
      ],
      "execution_count": 80,
      "outputs": []
    },
    {
      "cell_type": "code",
      "metadata": {
        "colab": {
          "base_uri": "https://localhost:8080/",
          "height": 203
        },
        "id": "2LdkXH5XS0NW",
        "outputId": "177055bc-5764-42f1-cff9-41bf43f57fb9"
      },
      "source": [
        "data.head()"
      ],
      "execution_count": 81,
      "outputs": [
        {
          "output_type": "execute_result",
          "data": {
            "text/html": [
              "<div>\n",
              "<style scoped>\n",
              "    .dataframe tbody tr th:only-of-type {\n",
              "        vertical-align: middle;\n",
              "    }\n",
              "\n",
              "    .dataframe tbody tr th {\n",
              "        vertical-align: top;\n",
              "    }\n",
              "\n",
              "    .dataframe thead th {\n",
              "        text-align: right;\n",
              "    }\n",
              "</style>\n",
              "<table border=\"1\" class=\"dataframe\">\n",
              "  <thead>\n",
              "    <tr style=\"text-align: right;\">\n",
              "      <th></th>\n",
              "      <th>Unnamed: 0</th>\n",
              "      <th>Category</th>\n",
              "      <th>Resume</th>\n",
              "      <th>label</th>\n",
              "    </tr>\n",
              "  </thead>\n",
              "  <tbody>\n",
              "    <tr>\n",
              "      <th>0</th>\n",
              "      <td>140</td>\n",
              "      <td>Web Designing</td>\n",
              "      <td>Technical Skills Web Technologies: Angular JS,...</td>\n",
              "      <td>True</td>\n",
              "    </tr>\n",
              "    <tr>\n",
              "      <th>1</th>\n",
              "      <td>141</td>\n",
              "      <td>Web Designing</td>\n",
              "      <td>Education Details \\r\\n B.C.A Bachelor Computer...</td>\n",
              "      <td>True</td>\n",
              "    </tr>\n",
              "    <tr>\n",
              "      <th>2</th>\n",
              "      <td>142</td>\n",
              "      <td>Web Designing</td>\n",
              "      <td>Technical Skills Web Technologies: Angular JS,...</td>\n",
              "      <td>True</td>\n",
              "    </tr>\n",
              "    <tr>\n",
              "      <th>3</th>\n",
              "      <td>143</td>\n",
              "      <td>Web Designing</td>\n",
              "      <td>Education Details \\r\\nJanuary 2016 B.Sc. Infor...</td>\n",
              "      <td>False</td>\n",
              "    </tr>\n",
              "    <tr>\n",
              "      <th>4</th>\n",
              "      <td>144</td>\n",
              "      <td>Web Designing</td>\n",
              "      <td>IT SKILLS Languages: C (Basic), JAVA (Basic) W...</td>\n",
              "      <td>True</td>\n",
              "    </tr>\n",
              "  </tbody>\n",
              "</table>\n",
              "</div>"
            ],
            "text/plain": [
              "   Unnamed: 0  ...  label\n",
              "0         140  ...   True\n",
              "1         141  ...   True\n",
              "2         142  ...   True\n",
              "3         143  ...  False\n",
              "4         144  ...   True\n",
              "\n",
              "[5 rows x 4 columns]"
            ]
          },
          "metadata": {},
          "execution_count": 81
        }
      ]
    },
    {
      "cell_type": "code",
      "metadata": {
        "colab": {
          "base_uri": "https://localhost:8080/",
          "height": 203
        },
        "id": "7fKPLeQES4hq",
        "outputId": "dd07be7e-9b3f-4946-9308-039c958ba40a"
      },
      "source": [
        "data = data[['Resume', 'label']]\n",
        "data.head()"
      ],
      "execution_count": 82,
      "outputs": [
        {
          "output_type": "execute_result",
          "data": {
            "text/html": [
              "<div>\n",
              "<style scoped>\n",
              "    .dataframe tbody tr th:only-of-type {\n",
              "        vertical-align: middle;\n",
              "    }\n",
              "\n",
              "    .dataframe tbody tr th {\n",
              "        vertical-align: top;\n",
              "    }\n",
              "\n",
              "    .dataframe thead th {\n",
              "        text-align: right;\n",
              "    }\n",
              "</style>\n",
              "<table border=\"1\" class=\"dataframe\">\n",
              "  <thead>\n",
              "    <tr style=\"text-align: right;\">\n",
              "      <th></th>\n",
              "      <th>Resume</th>\n",
              "      <th>label</th>\n",
              "    </tr>\n",
              "  </thead>\n",
              "  <tbody>\n",
              "    <tr>\n",
              "      <th>0</th>\n",
              "      <td>Technical Skills Web Technologies: Angular JS,...</td>\n",
              "      <td>True</td>\n",
              "    </tr>\n",
              "    <tr>\n",
              "      <th>1</th>\n",
              "      <td>Education Details \\r\\n B.C.A Bachelor Computer...</td>\n",
              "      <td>True</td>\n",
              "    </tr>\n",
              "    <tr>\n",
              "      <th>2</th>\n",
              "      <td>Technical Skills Web Technologies: Angular JS,...</td>\n",
              "      <td>True</td>\n",
              "    </tr>\n",
              "    <tr>\n",
              "      <th>3</th>\n",
              "      <td>Education Details \\r\\nJanuary 2016 B.Sc. Infor...</td>\n",
              "      <td>False</td>\n",
              "    </tr>\n",
              "    <tr>\n",
              "      <th>4</th>\n",
              "      <td>IT SKILLS Languages: C (Basic), JAVA (Basic) W...</td>\n",
              "      <td>True</td>\n",
              "    </tr>\n",
              "  </tbody>\n",
              "</table>\n",
              "</div>"
            ],
            "text/plain": [
              "                                              Resume  label\n",
              "0  Technical Skills Web Technologies: Angular JS,...   True\n",
              "1  Education Details \\r\\n B.C.A Bachelor Computer...   True\n",
              "2  Technical Skills Web Technologies: Angular JS,...   True\n",
              "3  Education Details \\r\\nJanuary 2016 B.Sc. Infor...  False\n",
              "4  IT SKILLS Languages: C (Basic), JAVA (Basic) W...   True"
            ]
          },
          "metadata": {},
          "execution_count": 82
        }
      ]
    },
    {
      "cell_type": "code",
      "metadata": {
        "id": "N4_d9IsqTNUh"
      },
      "source": [
        "scores = [getScore(x) for x in data['Resume']]"
      ],
      "execution_count": 84,
      "outputs": []
    },
    {
      "cell_type": "code",
      "metadata": {
        "id": "Vr8iQZDzTmLS"
      },
      "source": [
        "feature_set = pd.DataFrame(scores)\n",
        "feature_set.columns = [\"skills\", \"education\"]\n",
        "feature_set['label'] = data['label']\n"
      ],
      "execution_count": 88,
      "outputs": []
    },
    {
      "cell_type": "code",
      "metadata": {
        "colab": {
          "base_uri": "https://localhost:8080/",
          "height": 203
        },
        "id": "pEiDyxKDUKLC",
        "outputId": "d45abc92-2526-4c79-807f-7e86ddc0fa64"
      },
      "source": [
        "feature_set['label'] = np.where(feature_set['label']==True, 1, 0)\n",
        "feature_set.head()"
      ],
      "execution_count": 93,
      "outputs": [
        {
          "output_type": "execute_result",
          "data": {
            "text/html": [
              "<div>\n",
              "<style scoped>\n",
              "    .dataframe tbody tr th:only-of-type {\n",
              "        vertical-align: middle;\n",
              "    }\n",
              "\n",
              "    .dataframe tbody tr th {\n",
              "        vertical-align: top;\n",
              "    }\n",
              "\n",
              "    .dataframe thead th {\n",
              "        text-align: right;\n",
              "    }\n",
              "</style>\n",
              "<table border=\"1\" class=\"dataframe\">\n",
              "  <thead>\n",
              "    <tr style=\"text-align: right;\">\n",
              "      <th></th>\n",
              "      <th>skills</th>\n",
              "      <th>education</th>\n",
              "      <th>label</th>\n",
              "    </tr>\n",
              "  </thead>\n",
              "  <tbody>\n",
              "    <tr>\n",
              "      <th>0</th>\n",
              "      <td>9</td>\n",
              "      <td>0</td>\n",
              "      <td>1</td>\n",
              "    </tr>\n",
              "    <tr>\n",
              "      <th>1</th>\n",
              "      <td>7</td>\n",
              "      <td>1</td>\n",
              "      <td>1</td>\n",
              "    </tr>\n",
              "    <tr>\n",
              "      <th>2</th>\n",
              "      <td>9</td>\n",
              "      <td>0</td>\n",
              "      <td>1</td>\n",
              "    </tr>\n",
              "    <tr>\n",
              "      <th>3</th>\n",
              "      <td>1</td>\n",
              "      <td>0</td>\n",
              "      <td>0</td>\n",
              "    </tr>\n",
              "    <tr>\n",
              "      <th>4</th>\n",
              "      <td>7</td>\n",
              "      <td>1</td>\n",
              "      <td>1</td>\n",
              "    </tr>\n",
              "  </tbody>\n",
              "</table>\n",
              "</div>"
            ],
            "text/plain": [
              "   skills  education  label\n",
              "0       9          0      1\n",
              "1       7          1      1\n",
              "2       9          0      1\n",
              "3       1          0      0\n",
              "4       7          1      1"
            ]
          },
          "metadata": {},
          "execution_count": 93
        }
      ]
    },
    {
      "cell_type": "code",
      "metadata": {
        "id": "qj2uYdGyVis8"
      },
      "source": [
        "x_train, x_test, y_train, y_test = data_split(feature_set, 'label')"
      ],
      "execution_count": 111,
      "outputs": []
    },
    {
      "cell_type": "code",
      "metadata": {
        "id": "Vc0t7s_MX_x7"
      },
      "source": [
        "x_train"
      ],
      "execution_count": null,
      "outputs": []
    },
    {
      "cell_type": "code",
      "metadata": {
        "id": "icXp26FbV0Fz"
      },
      "source": [
        "clf = train(x_train, y_train)"
      ],
      "execution_count": 101,
      "outputs": []
    },
    {
      "cell_type": "code",
      "metadata": {
        "colab": {
          "base_uri": "https://localhost:8080/"
        },
        "id": "BBAzcJCuV-k6",
        "outputId": "160fb452-b885-4061-e93d-33ca864d06b9"
      },
      "source": [
        "Score(clf,x_train,y_train,x_train,y_train)"
      ],
      "execution_count": 103,
      "outputs": [
        {
          "output_type": "stream",
          "name": "stdout",
          "text": [
            "========================================\n",
            "Training Accuracy of our model is: 1.0\n",
            "Test Accuracy of our model is: 1.0\n",
            "========================================\n"
          ]
        }
      ]
    },
    {
      "cell_type": "code",
      "metadata": {
        "id": "S-Wzq8YhWZxU"
      },
      "source": [
        "import pickle\n",
        "filename = 'model.sav'\n",
        "pickle.dump(clf, open(filename, 'wb'))"
      ],
      "execution_count": 107,
      "outputs": []
    },
    {
      "cell_type": "code",
      "metadata": {
        "id": "n1MgETraWsD0"
      },
      "source": [
        "filename = 'model.sav'\n",
        "model = pickle.load(open(filename, 'rb'))\n",
        "result = model.score(x_test.values, y_test.values)"
      ],
      "execution_count": 116,
      "outputs": []
    },
    {
      "cell_type": "code",
      "metadata": {
        "colab": {
          "base_uri": "https://localhost:8080/"
        },
        "id": "s2tIbfcSW8RX",
        "outputId": "7b58aede-73ce-4bba-c747-3ea3665be19f"
      },
      "source": [
        "result"
      ],
      "execution_count": 117,
      "outputs": [
        {
          "output_type": "execute_result",
          "data": {
            "text/plain": [
              "1.0"
            ]
          },
          "metadata": {},
          "execution_count": 117
        }
      ]
    },
    {
      "cell_type": "code",
      "metadata": {
        "colab": {
          "base_uri": "https://localhost:8080/"
        },
        "id": "fltFijI4YQia",
        "outputId": "d10f578a-80d2-41e5-de3e-11c5b87c289d"
      },
      "source": [
        "y_test.values"
      ],
      "execution_count": 118,
      "outputs": [
        {
          "output_type": "execute_result",
          "data": {
            "text/plain": [
              "array([1, 1, 1, 1, 1, 1, 0, 1, 0, 1, 1, 1])"
            ]
          },
          "metadata": {},
          "execution_count": 118
        }
      ]
    },
    {
      "cell_type": "code",
      "metadata": {
        "id": "8y88QB1sG7X8"
      },
      "source": [
        "def transform(dataframe):\n",
        "    \n",
        "    \n",
        "    ## Import LabelEncoder from sklearn\n",
        "    from sklearn.preprocessing import LabelEncoder\n",
        "    \n",
        "    le = LabelEncoder()\n",
        "    \n",
        "    \n",
        "    ## Select all categorcial features\n",
        "    categorical_features = list(dataframe.columns[dataframe.dtypes == object])\n",
        "    \n",
        "    \n",
        "    ## Apply Label Encoding on all categorical features\n",
        "    return dataframe[categorical_features].apply(lambda x: le.fit_transform(x))"
      ],
      "execution_count": 38,
      "outputs": []
    },
    {
      "cell_type": "code",
      "metadata": {
        "id": "KAHtG6mCG952"
      },
      "source": [
        "def data_split(df, label):\n",
        "    \n",
        "    from sklearn.model_selection import train_test_split\n",
        "\n",
        "    X = df.drop(label, axis=1)\n",
        "    Y = df[label]\n",
        "\n",
        "    x_train, x_test, y_train, y_test = train_test_split(X,Y,random_state=0)\n",
        "    \n",
        "    return x_train, x_test, y_train, y_test\n",
        "\n",
        "\n",
        "\n",
        "# x_train, x_test, y_train, y_test = data_split(df_subset, 'is_canceled')"
      ],
      "execution_count": 96,
      "outputs": []
    },
    {
      "cell_type": "code",
      "metadata": {
        "id": "I72JJp3aHAT8"
      },
      "source": [
        "def train(x_train, y_train):\n",
        "    from sklearn.tree import DecisionTreeClassifier\n",
        "\n",
        "    clf = DecisionTreeClassifier(random_state=0)\n",
        "    clf.fit(x_train,y_train)\n",
        "    \n",
        "    return clf"
      ],
      "execution_count": 100,
      "outputs": []
    },
    {
      "cell_type": "code",
      "metadata": {
        "id": "WpbN6y9gHCs2"
      },
      "source": [
        "def Score(clf,x_train,y_train,x_test,y_test):\n",
        "    train_score = clf.score(x_train,y_train)\n",
        "    test_score = clf.score(x_test,y_test)\n",
        "\n",
        "    print(\"========================================\")\n",
        "    print(f'Training Accuracy of our model is: {train_score}')\n",
        "    print(f'Test Accuracy of our model is: {test_score}')\n",
        "    print(\"========================================\")\n",
        "    \n",
        "    \n",
        "# Score(clf,x_train,y_train,x_train,y_train)"
      ],
      "execution_count": 102,
      "outputs": []
    },
    {
      "cell_type": "code",
      "metadata": {
        "colab": {
          "base_uri": "https://localhost:8080/"
        },
        "id": "GjfQkwt-HFTJ",
        "outputId": "040bba96-27c0-4c96-e494-7478e1de0680"
      },
      "source": [
        "## Getting Prediciton of 10th record of x_train\n",
        "prediction = clf.predict(x_train.iloc[10].values.reshape(1,-1))\n",
        "\n",
        "## Actual Value of 10th record of x_train from y_train\n",
        "actual_value = y_train.iloc[10]\n",
        "\n",
        "print(f'Predicted Value \\t: {prediction[0]}')\n",
        "print(f'Actual Value\\t\\t: {actual_value}')"
      ],
      "execution_count": 104,
      "outputs": [
        {
          "output_type": "stream",
          "name": "stdout",
          "text": [
            "Predicted Value \t: 1\n",
            "Actual Value\t\t: 1\n"
          ]
        }
      ]
    }
  ]
}